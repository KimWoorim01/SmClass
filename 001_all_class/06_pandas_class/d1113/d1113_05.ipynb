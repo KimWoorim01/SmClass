{
 "cells": [
  {
   "cell_type": "code",
   "execution_count": 44,
   "metadata": {},
   "outputs": [
    {
     "data": {
      "text/plain": [
       "continent\n",
       "EU    8.617778\n",
       "SA    6.308333\n",
       "Name: total_litres_of_pure_alcohol, dtype: float64"
      ]
     },
     "execution_count": 44,
     "metadata": {},
     "output_type": "execute_result"
    }
   ],
   "source": [
    "import matplotlib.pyplot as plt\n",
    "import matplotlib\n",
    "import pandas as pd\n",
    "\n",
    "matplotlib.rcParams['font.family'] = 'Malgun Gothic'              #Window 용\n",
    "matplotlib.rcParams['font.size'] = 15\n",
    "matplotlib.rcParams['axes.unicode_minus'] = False\n",
    "\n",
    "\n",
    "df = pd.read_csv('drinks.csv')\n",
    "\n",
    "df['total_servings'] = df['beer_servings']+df['spirit_servings']+df['wine_servings']\n",
    "\n",
    "\n",
    "d_df = df.groupby('continent')['total_litres_of_pure_alcohol'].mean().max()\n",
    "\n",
    "\n",
    "data = df['total_litres_of_pure_alcohol'].mean()\n",
    "# 2.\n",
    "total_df = df.groupby('continent')['total_litres_of_pure_alcohol'].mean()\n",
    "# 3.\n",
    "# filt = df['키']>=180\n",
    "# df[filt]\n",
    "filt = total_df > data\n",
    "total_df[filt]\n",
    "\n"
   ]
  }
 ],
 "metadata": {
  "kernelspec": {
   "display_name": "Python 3",
   "language": "python",
   "name": "python3"
  },
  "language_info": {
   "codemirror_mode": {
    "name": "ipython",
    "version": 3
   },
   "file_extension": ".py",
   "mimetype": "text/x-python",
   "name": "python",
   "nbconvert_exporter": "python",
   "pygments_lexer": "ipython3",
   "version": "3.12.6"
  }
 },
 "nbformat": 4,
 "nbformat_minor": 2
}
