{
 "cells": [
  {
   "cell_type": "code",
   "execution_count": null,
   "metadata": {},
   "outputs": [
    {
     "ename": "KeyboardInterrupt",
     "evalue": "",
     "output_type": "error",
     "traceback": [
      "\u001b[1;31m---------------------------------------------------------------------------\u001b[0m",
      "\u001b[1;31mKeyboardInterrupt\u001b[0m                         Traceback (most recent call last)",
      "Cell \u001b[1;32mIn[2], line 25\u001b[0m\n\u001b[0;32m     17\u001b[0m option\u001b[38;5;241m.\u001b[39madd_argument(\u001b[38;5;124m\"\u001b[39m\u001b[38;5;124mUser-Agent=Mozilla/5.0 (Windows NT 10.0; Win64; x64)\u001b[39m\u001b[38;5;124m\"\u001b[39m)\n\u001b[0;32m     19\u001b[0m \u001b[38;5;66;03m# url = 'https://search.daum.net/search?w=tot&q=2023%EB%85%84%EC%98%81%ED%99%94%EC%88%9C%EC%9C%84&DA=MOR&rtmaxcoll=MOR'\u001b[39;00m\n\u001b[0;32m     20\u001b[0m \u001b[38;5;66;03m# browser = webdriver.Chrome(options=option)\u001b[39;00m\n\u001b[0;32m     21\u001b[0m \u001b[38;5;66;03m# browser = webdriver.Chrome()\u001b[39;00m\n\u001b[0;32m     22\u001b[0m \u001b[38;5;66;03m# browser.maximize_window()\u001b[39;00m\n\u001b[0;32m     23\u001b[0m \u001b[38;5;66;03m# browser.get(url)\u001b[39;00m\n\u001b[1;32m---> 25\u001b[0m \u001b[43mtime\u001b[49m\u001b[38;5;241;43m.\u001b[39;49m\u001b[43msleep\u001b[49m\u001b[43m(\u001b[49m\u001b[38;5;241;43m3\u001b[39;49m\u001b[43m)\u001b[49m\n\u001b[0;32m     26\u001b[0m year \u001b[38;5;241m=\u001b[39m \u001b[38;5;241m2023\u001b[39m\n\u001b[0;32m     27\u001b[0m \u001b[38;5;28;01mfor\u001b[39;00m i \u001b[38;5;129;01min\u001b[39;00m \u001b[38;5;28mrange\u001b[39m(\u001b[38;5;241m5\u001b[39m):\n",
      "\u001b[1;31mKeyboardInterrupt\u001b[0m: "
     ]
    }
   ],
   "source": [
    "from selenium import webdriver\n",
    "from selenium.webdriver.common.by import By as by\n",
    "from selenium.webdriver.common.keys import Keys as keys\n",
    "from selenium.webdriver.support.ui import WebDriverWait as wdwait\n",
    "from selenium.webdriver.support import expected_conditions as ec\n",
    "from selenium.webdriver.chrome.options import Options\n",
    "import pyautogui as autogui\n",
    "import time\n",
    "import requests, random\n",
    "from bs4 import BeautifulSoup\n",
    "import pandas as pd\n",
    "\n",
    "\n",
    "option = Options()\n",
    "option.add_argument('--headless')\n",
    "option.add_argument('--window-size=1920,1080')\n",
    "option.add_argument(\"User-Agent=Mozilla/5.0 (Windows NT 10.0; Win64; x64)\")\n",
    "\n",
    "# url = 'https://search.daum.net/search?w=tot&q=2023%EB%85%84%EC%98%81%ED%99%94%EC%88%9C%EC%9C%84&DA=MOR&rtmaxcoll=MOR'\n",
    "# browser = webdriver.Chrome(options=option)\n",
    "# browser = webdriver.Chrome()\n",
    "# browser.maximize_window()\n",
    "# browser.get(url)\n",
    "\n",
    "time.sleep(3)\n",
    "year = 2023\n",
    "for i in range(5):\n",
    "  url = f\"https://search.daum.net/search?w=tot&q={year}%EB%85%84%EC%98%81%ED%99%94%EC%88%9C%EC%9C%84&DA=MOR&rtmaxcoll=MOR\"\n",
    "  browser = webdriver.Chrome()\n",
    "  browser.get(url)\n",
    "  time.sleep(3)\n",
    "  soup = BeautifulSoup(browser.page_source,\"lxml\")\n",
    "\n",
    "  year -= 1\n",
    "  with open(f\"daum_{i+1}.html\",\"w\",encoding=\"utf-8\") as f:\n",
    "    f.write(soup.prettify())\n",
    "\n",
    "time.sleep(3)\n",
    "\n",
    "\n",
    "\n",
    "\n",
    "for i in range(5):\n",
    "  with open(f\"daum_{i+1}.html\",\"r\",encoding=\"utf-8\") as f:\n",
    "    soup = BeautifulSoup(f,'lxml')\n",
    "\n",
    "    s_list = []\n",
    "    for j,screen in enumerate(screens):\n",
    "\n",
    "      data = soup.select_one(\"#mor_history_id_0 > div > div.flipsnap_view > div > div:nth-child(1) > c-flicking-item > c-layout > div > c-list-doc > ul\")\n",
    "      screens = data.select(\"li\")\n",
    "      title = screen.select_one(\".iti-g.clamp-g\").text.strip()\n",
    "      s_img = screen.select_one(\".wrap_thumb img\")['src']\n",
    "      number = screen.select_one(\".conts-desc.clamp-g\").text.strip()[3:-2].replace(\",\",\"\")\n",
    "      sDate = screen.select_one('conts-subdesc.clamp-g').text.strip()[:-1]\n",
    "      s_list = [title, number, sDate]\n",
    "\n",
    "      f.write(','.join(s_list)+'\\n')\n",
    "\n",
    "time.sleep(3)\n",
    "browser.close()"
   ]
  },
  {
   "cell_type": "code",
   "execution_count": null,
   "metadata": {},
   "outputs": [],
   "source": [
    "\n",
    "\n",
    "topTitle = ['title','num','Date']\n",
    "f = open('screens.txt','w',encoding=\"utf-8\")\n",
    "f.write()\n"
   ]
  }
 ],
 "metadata": {
  "kernelspec": {
   "display_name": "Python 3",
   "language": "python",
   "name": "python3"
  },
  "language_info": {
   "codemirror_mode": {
    "name": "ipython",
    "version": 3
   },
   "file_extension": ".py",
   "mimetype": "text/x-python",
   "name": "python",
   "nbconvert_exporter": "python",
   "pygments_lexer": "ipython3",
   "version": "3.12.6"
  }
 },
 "nbformat": 4,
 "nbformat_minor": 2
}
