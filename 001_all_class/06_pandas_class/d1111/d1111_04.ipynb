{
 "cells": [
  {
   "cell_type": "code",
   "execution_count": 151,
   "metadata": {},
   "outputs": [
    {
     "data": {
      "text/plain": [
       "np.int64(13)"
      ]
     },
     "execution_count": 151,
     "metadata": {},
     "output_type": "execute_result"
    }
   ],
   "source": [
    "import pandas as pd\n",
    "import numpy as np\n",
    "import random\n",
    "\n",
    "# df = pd.read_csv('score.csv', index_col='지원번호')\n",
    "\n",
    "df = pd.read_csv('chipotle.tsv', sep='\\t')\n",
    "df\n",
    "\n",
    "# df['item_name'].value_counts().head(3)\n",
    "# list(df['item_name'].value_counts().items())\n",
    "\n",
    "# df.info()\n",
    "\n",
    "# df.groupby('item_name').get_group('Chicken Bowl')\n",
    "\n",
    "# df[df['item_name'] == 'Chicken Bowl']['quantity'].sum()\n",
    "\n",
    "# df.groupby('item_name').sum().sort_values('quantity',ascending=False)\n",
    "\n",
    "# df.groupby('order_id').sum()['item_price'].str.replace('$','')\n",
    "\n",
    "# len(df['order_id'].unique())\n",
    "\n",
    "df['item_price'] = df['item_price'].str.replace('$','').astype(float)\n",
    "# df['item_price'] = df['item_price'].str[1:].astype(float)\n",
    "\n",
    "df.groupby('order_id')['item_price'].sum().mean()\n",
    "\n",
    "\n",
    "# 각 메뉴별 판매 금액 합산\n",
    "df.groupby('item_name').sum()['item_price']\n",
    "\n",
    "\n",
    "# filt = df['quantity'] == 1\n",
    "\n",
    "# df[filt].groupby('item_name')[['item_price']].min().sort_values('item_price',ascending=False)\n",
    "# df[filt].groupby('item_name')[['item_price']].min().count()\n",
    "\n",
    "# filt = df.groupby('order_id').sum()['item_price'] >= 20\n",
    "# df_s = df.groupby('order_id').sum()['item_price'].sort_values(ascending=False)\n",
    "# filt = df.groupby('order_id').sum()['item_price'].sort_values(ascending=False) >= 20\n",
    "\n",
    "# df_s.loc[filt].index\n",
    "# df.groupby('order_id').sum()[filt]['item_price']\n",
    "\n",
    "# filt = df['item_name'] == 'Veggie Salad Bowl'\n",
    "# df.loc[filt]['quantity'].count()\n",
    "\n",
    "filt = (df['item_name'] == 'Chicken Salad Bowl') & (df['quantity'] > 1)\n",
    "df.loc[filt]['quantity'].count()\n",
    "\n",
    "\n",
    "\n",
    "\n",
    "\n",
    "\n"
   ]
  }
 ],
 "metadata": {
  "kernelspec": {
   "display_name": "Python 3",
   "language": "python",
   "name": "python3"
  },
  "language_info": {
   "codemirror_mode": {
    "name": "ipython",
    "version": 3
   },
   "file_extension": ".py",
   "mimetype": "text/x-python",
   "name": "python",
   "nbconvert_exporter": "python",
   "pygments_lexer": "ipython3",
   "version": "3.12.6"
  }
 },
 "nbformat": 4,
 "nbformat_minor": 2
}
