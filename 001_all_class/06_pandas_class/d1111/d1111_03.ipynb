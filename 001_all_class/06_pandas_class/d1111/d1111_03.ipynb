{
 "cells": [
  {
   "cell_type": "code",
   "execution_count": null,
   "metadata": {},
   "outputs": [
    {
     "data": {
      "text/plain": [
       "<pandas.core.groupby.generic.SeriesGroupBy object at 0x0000027C4993C350>"
      ]
     },
     "execution_count": 7,
     "metadata": {},
     "output_type": "execute_result"
    }
   ],
   "source": [
    "import pandas as pd\n",
    "import numpy as np\n",
    "import random\n",
    "\n",
    "df = pd.read_csv('score.csv', index_col='지원번호')\n",
    "\n",
    "# df = pd.read_csv('chipotle.tsv', sep='\\t')\n",
    "\n",
    "### 그룹화\n",
    "\n",
    "\n",
    "# df.groupby('학교').get_group('구로고')\n",
    "# df.groupby('학교').size()\n",
    "# df.groupby('학교').size()['구로고']\n",
    "\n",
    "\n",
    "# df.groupby('')\n",
    "\n",
    "\n",
    "\n"
   ]
  }
 ],
 "metadata": {
  "kernelspec": {
   "display_name": "Python 3",
   "language": "python",
   "name": "python3"
  },
  "language_info": {
   "codemirror_mode": {
    "name": "ipython",
    "version": 3
   },
   "file_extension": ".py",
   "mimetype": "text/x-python",
   "name": "python",
   "nbconvert_exporter": "python",
   "pygments_lexer": "ipython3",
   "version": "3.12.6"
  }
 },
 "nbformat": 4,
 "nbformat_minor": 2
}
