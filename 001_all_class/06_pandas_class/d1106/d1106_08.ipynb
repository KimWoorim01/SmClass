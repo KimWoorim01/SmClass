{
 "cells": [
  {
   "cell_type": "code",
   "execution_count": 15,
   "metadata": {},
   "outputs": [],
   "source": [
    "import pandas as pd\n",
    "\n",
    "data = {\n",
    "  '이름' : ['강나래', '강태원', '강호림','김수찬','김재욱','박동현','박혜정','승근열'],\n",
    "  '학교' : ['구로고', '구로고', '가산고', '가산고', '가산고', '구로고', '구로고', '구로고'],\n",
    "  '국어' : [90,80,84,85,91,100,95,88],\n",
    "  '영어' : [80,84,72,74,95,88,85,78],\n",
    "  '수학' : [88,90,94,78,71,90,75,87],\n",
    "  '합계' : [78,68,93,92,82,90,90,65],\n",
    "  '평균' : [192,177,168,175,183,180,179,167],\n",
    "  '등수' : [0,0,0,0,0,0,0,0]\n",
    "}\n",
    "\n",
    "\n",
    "for i in range(0,len(data['이름'])):\n",
    "  data['합계'][i] = data['국어'][i] + data['수학'][i] + data['영어'][i]\n",
    "  data['평균'][i] = round(int(data['합계'][i])/3,2)\n",
    "\n",
    "\n",
    "df = pd.DataFrame(data)\n",
    "df.index = ['1번','2번','3번','4번','5번','6번','7번','8번']\n",
    "df.index.name = '지원번호'\n",
    "\n",
    "# df.to_csv('score.csv',encoding='utf-8')\n",
    "# csv 파일로 저장 : excel 확인시 한글인식 utf-8-sig 설정해야함\n",
    "# csv : comma-separated values 구분자 설정\n",
    "# df.to_csv('score.csv',sep='\\t',encoding='utf-8-sig')\n",
    "df.to_excel('pandas_code.xlsx')\n",
    "\n",
    "\n",
    "\n"
   ]
  }
 ],
 "metadata": {
  "kernelspec": {
   "display_name": "Python 3",
   "language": "python",
   "name": "python3"
  },
  "language_info": {
   "codemirror_mode": {
    "name": "ipython",
    "version": 3
   },
   "file_extension": ".py",
   "mimetype": "text/x-python",
   "name": "python",
   "nbconvert_exporter": "python",
   "pygments_lexer": "ipython3",
   "version": "3.12.6"
  }
 },
 "nbformat": 4,
 "nbformat_minor": 2
}
