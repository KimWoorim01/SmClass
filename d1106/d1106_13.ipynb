{
 "cells": [
  {
   "cell_type": "code",
   "execution_count": null,
   "metadata": {},
   "outputs": [
    {
     "name": "stdout",
     "output_type": "stream",
     "text": [
      "2014년졸음운전교통사고.csv\n",
      "2015년졸음운전교통사고.csv\n",
      "2016년졸음운전교통사고.csv\n",
      "구분\n",
      "2015년7월    273\n",
      "2015년8월    268\n",
      "2015년9월    252\n",
      "2016년5월    239\n",
      "2015년3월    237\n",
      "Name: 사고(건), dtype: int64\n",
      "9.333333333333334\n"
     ]
    }
   ],
   "source": [
    "import pandas as pd\n",
    "\n",
    "arraydata = []\n",
    "for i in range(0,3):\n",
    "  index = 2014+i\n",
    "  dataname = f\"{index}년졸음운전교통사고.csv\"\n",
    "  df = pd.read_csv(dataname,encoding='euc-kr',index_col='구분')\n",
    "  arraydata.append(df)\n",
    "  print(dataname)\n",
    "\n",
    "data = pd.concat([arraydata[0],arraydata[1], arraydata[2]])\n",
    "\n",
    "data.sort_values('사고(건)',inplace=True)\n",
    "\n",
    "print(data['사고(건)'].nlargest())\n",
    "print(data['사망(명)'].mean())\n"
   ]
  }
 ],
 "metadata": {
  "kernelspec": {
   "display_name": "Python 3",
   "language": "python",
   "name": "python3"
  },
  "language_info": {
   "codemirror_mode": {
    "name": "ipython",
    "version": 3
   },
   "file_extension": ".py",
   "mimetype": "text/x-python",
   "name": "python",
   "nbconvert_exporter": "python",
   "pygments_lexer": "ipython3",
   "version": "3.12.6"
  }
 },
 "nbformat": 4,
 "nbformat_minor": 2
}
