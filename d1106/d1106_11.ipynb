{
 "cells": [
  {
   "cell_type": "code",
   "execution_count": 25,
   "metadata": {},
   "outputs": [
    {
     "data": {
      "text/plain": [
       "(8, 7)"
      ]
     },
     "execution_count": 25,
     "metadata": {},
     "output_type": "execute_result"
    }
   ],
   "source": [
    "import pandas as pd\n",
    "\n",
    "df = pd.read_csv('score.xlsx',index_col='지원번호')\n",
    "\n",
    "#df 컬럼 중 number 해당되는 데이터의 갯수, 평균, 표준편차, 최소값, 최대값\n",
    "\n",
    "# df.info()\n",
    "# df.describe()\n",
    "\n",
    "#상위 5개\n",
    "# df.head()\n",
    "#하위 5개\n",
    "# df.tail()\n",
    "\n",
    "#배열구조 확인\n",
    "df.values\n",
    "#index 확인\n",
    "df.index\n",
    "#column 확인\n",
    "df.columns\n",
    "\n",
    "df.columns[0:2]\n",
    "df.index[0:3]\n",
    "\n",
    "df.shape\n"
   ]
  }
 ],
 "metadata": {
  "kernelspec": {
   "display_name": "Python 3",
   "language": "python",
   "name": "python3"
  },
  "language_info": {
   "codemirror_mode": {
    "name": "ipython",
    "version": 3
   },
   "file_extension": ".py",
   "mimetype": "text/x-python",
   "name": "python",
   "nbconvert_exporter": "python",
   "pygments_lexer": "ipython3",
   "version": "3.12.6"
  }
 },
 "nbformat": 4,
 "nbformat_minor": 2
}
