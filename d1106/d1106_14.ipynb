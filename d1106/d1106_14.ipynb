{
 "cells": [
  {
   "cell_type": "code",
   "execution_count": null,
   "metadata": {},
   "outputs": [],
   "source": [
    "from selenium import webdriver\n",
    "from selenium.webdriver.common.by import By as by\n",
    "from selenium.webdriver.common.keys import Keys as keys\n",
    "from selenium.webdriver.support.ui import WebDriverWait as wdwait\n",
    "from selenium.webdriver.support import expected_conditions as ec\n",
    "from selenium.webdriver.chrome.options import Options\n",
    "import pyautogui as autogui\n",
    "import time\n",
    "import requests, random\n",
    "from bs4 import BeautifulSoup\n",
    "import pandas as pd\n",
    "\n",
    "\n",
    "option = Options()\n",
    "option.add_argument('--headless')\n",
    "option.add_argument('--window-size=1920,1080')\n",
    "option.add_argument(\"User-Agent=Mozilla/5.0 (Windows NT 10.0; Win64; x64)\")\n",
    "\n",
    "# url = 'https://search.daum.net/search?w=tot&q=2023%EB%85%84%EC%98%81%ED%99%94%EC%88%9C%EC%9C%84&DA=MOR&rtmaxcoll=MOR'\n",
    "# browser = webdriver.Chrome(options=option)\n",
    "# browser = webdriver.Chrome()\n",
    "# browser.maximize_window()\n",
    "# browser.get(url)\n",
    "\n",
    "time.sleep(3)\n",
    "year = 2023\n",
    "for i in range(5):\n",
    "  url = f\"https://search.daum.net/search?w=tot&q={year}%EB%85%84%EC%98%81%ED%99%94%EC%88%9C%EC%9C%84&DA=MOR&rtmaxcoll=MOR\"\n",
    "  browser = webdriver.Chrome()\n",
    "  browser.get(url)\n",
    "  time.sleep(3)\n",
    "  soup = BeautifulSoup(browser.page_source,\"lxml\")\n",
    "\n",
    "  year -= 1\n",
    "  with open(f\"daum_{i+1}.html\",\"w\",encoding=\"utf-8\") as f:\n",
    "    f.write(soup.prettify())\n",
    "\n",
    "time.sleep(3)\n",
    "for i in range(5):\n",
    "  with open(f\"daum_{i+1}.html\",\"r\",encoding=\"utf-8\") as f:\n",
    "    soup = BeautifulSoup(f,'lxml')\n",
    "\n",
    "  data = soup.select_one(\"#__next > div > main > section > div.css-1qumol3\")\n",
    "\n",
    "  dataLists = data.select(\"a\")\n",
    "\n",
    "\n",
    "\n",
    "time.sleep(3)\n",
    "browser.close()"
   ]
  }
 ],
 "metadata": {
  "kernelspec": {
   "display_name": "Python 3",
   "language": "python",
   "name": "python3"
  },
  "language_info": {
   "codemirror_mode": {
    "name": "ipython",
    "version": 3
   },
   "file_extension": ".py",
   "mimetype": "text/x-python",
   "name": "python",
   "nbconvert_exporter": "python",
   "pygments_lexer": "ipython3",
   "version": "3.12.6"
  }
 },
 "nbformat": 4,
 "nbformat_minor": 2
}
