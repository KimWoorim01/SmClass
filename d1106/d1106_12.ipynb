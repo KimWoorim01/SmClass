{
 "cells": [
  {
   "cell_type": "code",
   "execution_count": 15,
   "metadata": {},
   "outputs": [
    {
     "data": {
      "text/plain": [
       "0    258\n",
       "1    254\n",
       "2    250\n",
       "3    237\n",
       "4    257\n",
       "5    278\n",
       "6    255\n",
       "7    253\n",
       "Name: 합계, dtype: int64"
      ]
     },
     "execution_count": 15,
     "metadata": {},
     "output_type": "execute_result"
    }
   ],
   "source": [
    "import pandas as pd\n",
    "\n",
    "df = pd.read_excel('pandas_code.xlsx')\n",
    "\n",
    "df.describe()\n",
    "\n",
    "# df['수학'].min()          #최소값\n",
    "# df['수학'].max()          #최대값\n",
    "# df['수학'].mean()         #평균\n",
    "\n",
    "df['수학'].nlargest()       #최대값 5\n",
    "df['수학'].nsmallest()      #최소값 5\n",
    "\n",
    "df['수학']\n",
    "df[['수학','국어']]\n",
    "\n",
    "df.columns[-1]\n",
    "\n",
    "df[df.columns[-3]]\n"
   ]
  }
 ],
 "metadata": {
  "kernelspec": {
   "display_name": "Python 3",
   "language": "python",
   "name": "python3"
  },
  "language_info": {
   "codemirror_mode": {
    "name": "ipython",
    "version": 3
   },
   "file_extension": ".py",
   "mimetype": "text/x-python",
   "name": "python",
   "nbconvert_exporter": "python",
   "pygments_lexer": "ipython3",
   "version": "3.12.6"
  }
 },
 "nbformat": 4,
 "nbformat_minor": 2
}
